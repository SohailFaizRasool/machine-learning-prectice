{
 "cells": [
  {
   "cell_type": "code",
   "execution_count": 2,
   "id": "5a331848-9585-4553-9915-78c98b2d9165",
   "metadata": {},
   "outputs": [],
   "source": [
    "import numpy as np"
   ]
  },
  {
   "cell_type": "code",
   "execution_count": 3,
   "id": "a0a5db39-e646-4768-925c-0f1a099b317f",
   "metadata": {},
   "outputs": [
    {
     "name": "stdout",
     "output_type": "stream",
     "text": [
      "1.26.4\n"
     ]
    }
   ],
   "source": [
    "print(np.__version__)"
   ]
  },
  {
   "cell_type": "code",
   "execution_count": 4,
   "id": "db0afced-b748-4cfd-a1f1-0734baef0341",
   "metadata": {},
   "outputs": [
    {
     "data": {
      "text/plain": [
       "array([1, 2, 3])"
      ]
     },
     "execution_count": 4,
     "metadata": {},
     "output_type": "execute_result"
    }
   ],
   "source": [
    "np.array([1,2,3])"
   ]
  },
  {
   "cell_type": "code",
   "execution_count": 5,
   "id": "eabc5527-ed1b-482f-b1ae-e6e115c4148f",
   "metadata": {},
   "outputs": [
    {
     "data": {
      "text/plain": [
       "array([[1, 2, 3],\n",
       "       [4, 5, 6]])"
      ]
     },
     "execution_count": 5,
     "metadata": {},
     "output_type": "execute_result"
    }
   ],
   "source": [
    "np.array([[1,2,3],\n",
    "         [4,5,6],])"
   ]
  },
  {
   "cell_type": "code",
   "execution_count": 6,
   "id": "50c46833-35d3-4aa1-ae14-635ab9beabd9",
   "metadata": {},
   "outputs": [],
   "source": [
    "ones= np.ones((6,5))"
   ]
  },
  {
   "cell_type": "code",
   "execution_count": 7,
   "id": "5061e01c-e831-4d3d-86fe-eb653e64d5ca",
   "metadata": {},
   "outputs": [
    {
     "data": {
      "text/plain": [
       "array([[1., 1., 1., 1., 1.],\n",
       "       [1., 1., 1., 1., 1.],\n",
       "       [1., 1., 1., 1., 1.],\n",
       "       [1., 1., 1., 1., 1.],\n",
       "       [1., 1., 1., 1., 1.],\n",
       "       [1., 1., 1., 1., 1.]])"
      ]
     },
     "execution_count": 7,
     "metadata": {},
     "output_type": "execute_result"
    }
   ],
   "source": [
    "ones"
   ]
  },
  {
   "cell_type": "code",
   "execution_count": 8,
   "id": "12432b0c-ef32-4646-b82d-5cb756f2a7be",
   "metadata": {},
   "outputs": [],
   "source": [
    "zeros= np.zeros((10,2))"
   ]
  },
  {
   "cell_type": "code",
   "execution_count": 9,
   "id": "46b329d3-7fe8-4010-9665-835472ab6195",
   "metadata": {},
   "outputs": [
    {
     "data": {
      "text/plain": [
       "array([[1, 1, 1, 1, 1],\n",
       "       [1, 1, 1, 1, 1],\n",
       "       [1, 1, 1, 1, 1],\n",
       "       [1, 1, 1, 1, 1],\n",
       "       [1, 1, 1, 1, 1],\n",
       "       [1, 1, 1, 1, 1]])"
      ]
     },
     "execution_count": 9,
     "metadata": {},
     "output_type": "execute_result"
    }
   ],
   "source": [
    "ones.astype(int)"
   ]
  },
  {
   "cell_type": "code",
   "execution_count": 10,
   "id": "d0513b40-722a-41e0-96b5-7dbe1c0ac8f5",
   "metadata": {},
   "outputs": [],
   "source": [
    "range_array= np.arange(0,10,3)"
   ]
  },
  {
   "cell_type": "code",
   "execution_count": 11,
   "id": "b8b24181-4462-4811-80f2-1633a02483d2",
   "metadata": {},
   "outputs": [
    {
     "data": {
      "text/plain": [
       "array([0.   , 2.025, 4.05 , 6.075])"
      ]
     },
     "execution_count": 11,
     "metadata": {},
     "output_type": "execute_result"
    }
   ],
   "source": [
    "range_array*3/4*0.9"
   ]
  },
  {
   "cell_type": "code",
   "execution_count": 12,
   "id": "0e1d878f-25cc-48f4-87d0-797136894daa",
   "metadata": {},
   "outputs": [],
   "source": [
    "randInt= np.random.randint(5, size=(5,2))"
   ]
  },
  {
   "cell_type": "code",
   "execution_count": 13,
   "id": "f69fa379-9178-466a-8e00-87178db1120e",
   "metadata": {},
   "outputs": [],
   "source": [
    "randFloot= np.random.random((5,2))"
   ]
  },
  {
   "cell_type": "raw",
   "id": "87ffa288-c889-4fa6-8baf-a1f17e1b49a0",
   "metadata": {},
   "source": [
    "randInt"
   ]
  },
  {
   "cell_type": "code",
   "execution_count": 14,
   "id": "d67f1eaa-403a-47ed-8174-dd1ba6f9c5e9",
   "metadata": {},
   "outputs": [
    {
     "data": {
      "text/plain": [
       "array([[1, 0],\n",
       "       [3, 2],\n",
       "       [1, 3],\n",
       "       [3, 4],\n",
       "       [2, 2]])"
      ]
     },
     "execution_count": 14,
     "metadata": {},
     "output_type": "execute_result"
    }
   ],
   "source": [
    "randInt"
   ]
  },
  {
   "cell_type": "code",
   "execution_count": 15,
   "id": "eb197aa8-50cb-4c96-9222-17087b472ac4",
   "metadata": {},
   "outputs": [
    {
     "data": {
      "text/plain": [
       "array([[0.75992771, 0.75738687],\n",
       "       [0.7496809 , 0.86896563],\n",
       "       [0.6699763 , 0.15708638],\n",
       "       [0.16318646, 0.83085788],\n",
       "       [0.79613251, 0.0253514 ]])"
      ]
     },
     "execution_count": 15,
     "metadata": {},
     "output_type": "execute_result"
    }
   ],
   "source": [
    "randFloot"
   ]
  },
  {
   "cell_type": "code",
   "execution_count": 16,
   "id": "2e7d1f8b-03a3-4819-bd5e-c10bf4beb8b0",
   "metadata": {},
   "outputs": [
    {
     "data": {
      "text/plain": [
       "array([[0.08563406, 0.32042413],\n",
       "       [0.77774347, 0.39464247],\n",
       "       [0.11542742, 0.82216084],\n",
       "       [0.16626658, 0.41575618],\n",
       "       [0.90270261, 0.49262251]])"
      ]
     },
     "execution_count": 16,
     "metadata": {},
     "output_type": "execute_result"
    }
   ],
   "source": [
    " np.random.random((5,2))"
   ]
  },
  {
   "cell_type": "code",
   "execution_count": 17,
   "id": "9cfe7707-d4fb-43b9-8d11-1be091d65c9d",
   "metadata": {},
   "outputs": [
    {
     "data": {
      "text/plain": [
       "array([[0.39746924, 0.53656524],\n",
       "       [0.07514493, 0.12038946],\n",
       "       [0.62063808, 0.93633012],\n",
       "       [0.2164431 , 0.99240581],\n",
       "       [0.6891005 , 0.55767695]])"
      ]
     },
     "execution_count": 17,
     "metadata": {},
     "output_type": "execute_result"
    }
   ],
   "source": [
    " np.random.random((5,2))"
   ]
  },
  {
   "cell_type": "code",
   "execution_count": 18,
   "id": "9648f5c8-5ce7-446f-887d-9c3b4bf67f83",
   "metadata": {},
   "outputs": [
    {
     "data": {
      "text/plain": [
       "array([[0.74899231, 0.27076864],\n",
       "       [0.96567687, 0.10575975],\n",
       "       [0.78503778, 0.61385502],\n",
       "       [0.36559809, 0.59077818],\n",
       "       [0.29948112, 0.32456118]])"
      ]
     },
     "execution_count": 18,
     "metadata": {},
     "output_type": "execute_result"
    }
   ],
   "source": [
    " np.random.random((5,2))"
   ]
  },
  {
   "cell_type": "code",
   "execution_count": 19,
   "id": "0696db84-347c-4237-aebc-94798e1edf17",
   "metadata": {},
   "outputs": [
    {
     "data": {
      "text/plain": [
       "array([[0.50539151, 0.89293766],\n",
       "       [0.9095273 , 0.535312  ],\n",
       "       [0.97373359, 0.1810562 ],\n",
       "       [0.30733764, 0.05236093],\n",
       "       [0.53621788, 0.69671678]])"
      ]
     },
     "execution_count": 19,
     "metadata": {},
     "output_type": "execute_result"
    }
   ],
   "source": [
    " np.random.random((5,2))"
   ]
  },
  {
   "cell_type": "code",
   "execution_count": 20,
   "id": "f8c20cb5-2962-4132-868b-70cff275e1f0",
   "metadata": {},
   "outputs": [
    {
     "data": {
      "text/plain": [
       "array([[0.09010636, 0.32601875],\n",
       "       [0.28774426, 0.12677415],\n",
       "       [0.66993199, 0.86813512],\n",
       "       [0.14535401, 0.53096244],\n",
       "       [0.98957901, 0.47861491]])"
      ]
     },
     "execution_count": 20,
     "metadata": {},
     "output_type": "execute_result"
    }
   ],
   "source": [
    " np.random.random((5,2))"
   ]
  },
  {
   "cell_type": "code",
   "execution_count": 21,
   "id": "f462e87c-11df-40e8-a126-a54e0323663e",
   "metadata": {},
   "outputs": [],
   "source": [
    " np.random.seed(0)"
   ]
  },
  {
   "cell_type": "code",
   "execution_count": 22,
   "id": "118c2aca-1615-46a1-86c4-e4d9a397aabd",
   "metadata": {},
   "outputs": [
    {
     "data": {
      "text/plain": [
       "array([[5, 0],\n",
       "       [3, 3],\n",
       "       [7, 9],\n",
       "       [3, 5],\n",
       "       [2, 4]])"
      ]
     },
     "execution_count": 22,
     "metadata": {},
     "output_type": "execute_result"
    }
   ],
   "source": [
    "np.random.randint(10, size=(5,2))"
   ]
  },
  {
   "cell_type": "code",
   "execution_count": 23,
   "id": "d7f2a724-4802-4d2d-bde3-0ede7d0791d0",
   "metadata": {},
   "outputs": [],
   "source": [
    "ar=np.random.randint(10, size=(7))"
   ]
  },
  {
   "cell_type": "code",
   "execution_count": 24,
   "id": "b78bcf7c-d151-463a-b6a0-c431d18a680d",
   "metadata": {},
   "outputs": [
    {
     "data": {
      "text/plain": [
       "array([7, 6, 8, 8, 1, 6, 7])"
      ]
     },
     "execution_count": 24,
     "metadata": {},
     "output_type": "execute_result"
    }
   ],
   "source": [
    "ar"
   ]
  },
  {
   "cell_type": "code",
   "execution_count": 25,
   "id": "66593203-92f7-4b6c-8b1d-5e747934f021",
   "metadata": {},
   "outputs": [
    {
     "data": {
      "text/plain": [
       "7"
      ]
     },
     "execution_count": 25,
     "metadata": {},
     "output_type": "execute_result"
    }
   ],
   "source": [
    "ar[0]"
   ]
  },
  {
   "cell_type": "code",
   "execution_count": 26,
   "id": "516ebe31-5df1-478b-9bbd-1fba368aeb5e",
   "metadata": {},
   "outputs": [
    {
     "data": {
      "text/plain": [
       "array([7, 6, 8, 8])"
      ]
     },
     "execution_count": 26,
     "metadata": {},
     "output_type": "execute_result"
    }
   ],
   "source": [
    "ar[ :4]"
   ]
  },
  {
   "cell_type": "code",
   "execution_count": 27,
   "id": "0c2ed08a-a054-4251-851a-fc50eccb222d",
   "metadata": {},
   "outputs": [],
   "source": [
    "arr= np.random.randint(10, size=(3,3))"
   ]
  },
  {
   "cell_type": "code",
   "execution_count": 28,
   "id": "510ffc91-5f83-46de-adb6-66255afa11a7",
   "metadata": {},
   "outputs": [
    {
     "data": {
      "text/plain": [
       "array([[7, 8, 1],\n",
       "       [5, 9, 8],\n",
       "       [9, 4, 3]])"
      ]
     },
     "execution_count": 28,
     "metadata": {},
     "output_type": "execute_result"
    }
   ],
   "source": [
    "arr"
   ]
  },
  {
   "cell_type": "code",
   "execution_count": 29,
   "id": "628f6a84-62b3-41b4-9e31-5cfb474861e9",
   "metadata": {},
   "outputs": [
    {
     "data": {
      "text/plain": [
       "1"
      ]
     },
     "execution_count": 29,
     "metadata": {},
     "output_type": "execute_result"
    }
   ],
   "source": [
    "arr[0][2]"
   ]
  },
  {
   "cell_type": "code",
   "execution_count": 30,
   "id": "3b298320-0aa4-44f4-b655-0f1dade43ee8",
   "metadata": {},
   "outputs": [
    {
     "data": {
      "text/plain": [
       "array([[8, 1],\n",
       "       [9, 8]])"
      ]
     },
     "execution_count": 30,
     "metadata": {},
     "output_type": "execute_result"
    }
   ],
   "source": [
    "arr[:2 ,1:]"
   ]
  },
  {
   "cell_type": "code",
   "execution_count": 31,
   "id": "85e7505a-3727-4f48-9886-12b1fb87a39c",
   "metadata": {},
   "outputs": [],
   "source": [
    "arrr= np.random.randint(10, size=(3,5,6))"
   ]
  },
  {
   "cell_type": "code",
   "execution_count": 32,
   "id": "44f87368-1eef-41a1-883d-2c5fe1a77788",
   "metadata": {},
   "outputs": [
    {
     "data": {
      "text/plain": [
       "array([[[0, 3, 5, 0, 2, 3],\n",
       "        [8, 1, 3, 3, 3, 7],\n",
       "        [0, 1, 9, 9, 0, 4],\n",
       "        [7, 3, 2, 7, 2, 0],\n",
       "        [0, 4, 5, 5, 6, 8]],\n",
       "\n",
       "       [[4, 1, 4, 9, 8, 1],\n",
       "        [1, 7, 9, 9, 3, 6],\n",
       "        [7, 2, 0, 3, 5, 9],\n",
       "        [4, 4, 6, 4, 4, 3],\n",
       "        [4, 4, 8, 4, 3, 7]],\n",
       "\n",
       "       [[5, 5, 0, 1, 5, 9],\n",
       "        [3, 0, 5, 0, 1, 2],\n",
       "        [4, 2, 0, 3, 2, 0],\n",
       "        [7, 5, 9, 0, 2, 7],\n",
       "        [2, 9, 2, 3, 3, 2]]])"
      ]
     },
     "execution_count": 32,
     "metadata": {},
     "output_type": "execute_result"
    }
   ],
   "source": [
    "arrr"
   ]
  },
  {
   "cell_type": "code",
   "execution_count": 33,
   "id": "e33e3440-2b71-4a42-ab00-bf11adaffb44",
   "metadata": {},
   "outputs": [
    {
     "data": {
      "text/plain": [
       "7"
      ]
     },
     "execution_count": 33,
     "metadata": {},
     "output_type": "execute_result"
    }
   ],
   "source": [
    "arrr[1][1][1]"
   ]
  },
  {
   "cell_type": "code",
   "execution_count": 37,
   "id": "abb1053a-41bf-4263-808b-51726a874774",
   "metadata": {},
   "outputs": [
    {
     "data": {
      "text/plain": [
       "array([[[7, 9, 9, 3, 6],\n",
       "        [2, 0, 3, 5, 9],\n",
       "        [4, 6, 4, 4, 3],\n",
       "        [4, 8, 4, 3, 7]],\n",
       "\n",
       "       [[0, 5, 0, 1, 2],\n",
       "        [2, 0, 3, 2, 0],\n",
       "        [5, 9, 0, 2, 7],\n",
       "        [9, 2, 3, 3, 2]]])"
      ]
     },
     "execution_count": 37,
     "metadata": {},
     "output_type": "execute_result"
    }
   ],
   "source": [
    "arrr[1: , 1: , 1:]"
   ]
  },
  {
   "cell_type": "code",
   "execution_count": 40,
   "id": "7983d4d9-0633-49c5-bf68-1947df185b12",
   "metadata": {},
   "outputs": [
    {
     "data": {
      "text/plain": [
       "array([1, 6, 7, 8])"
      ]
     },
     "execution_count": 40,
     "metadata": {},
     "output_type": "execute_result"
    }
   ],
   "source": [
    "np.unique(ar)"
   ]
  },
  {
   "cell_type": "code",
   "execution_count": null,
   "id": "8cd2ca1a-4091-4fec-bc96-6209e0d32279",
   "metadata": {},
   "outputs": [],
   "source": []
  }
 ],
 "metadata": {
  "kernelspec": {
   "display_name": "Python 3 (ipykernel)",
   "language": "python",
   "name": "python3"
  },
  "language_info": {
   "codemirror_mode": {
    "name": "ipython",
    "version": 3
   },
   "file_extension": ".py",
   "mimetype": "text/x-python",
   "name": "python",
   "nbconvert_exporter": "python",
   "pygments_lexer": "ipython3",
   "version": "3.12.4"
  }
 },
 "nbformat": 4,
 "nbformat_minor": 5
}
